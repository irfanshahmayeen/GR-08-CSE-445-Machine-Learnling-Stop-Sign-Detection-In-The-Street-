{
  "nbformat": 4,
  "nbformat_minor": 0,
  "metadata": {
    "colab": {
      "provenance": [],
      "include_colab_link": true
    },
    "kernelspec": {
      "name": "python3",
      "display_name": "Python 3"
    },
    "language_info": {
      "name": "python"
    }
  },
  "cells": [
    {
      "cell_type": "markdown",
      "metadata": {
        "id": "view-in-github",
        "colab_type": "text"
      },
      "source": [
        "<a href=\"https://colab.research.google.com/github/irfanshahmayeen/GR-08-CSE-445-Machine-Learnling-Stop-Sign-Detection-In-The-Street-/blob/yousuf1/MLP.ipynb\" target=\"_parent\"><img src=\"https://colab.research.google.com/assets/colab-badge.svg\" alt=\"Open In Colab\"/></a>"
      ]
    },
    {
      "cell_type": "code",
      "source": [],
      "metadata": {
        "id": "UYqduSNphx4s"
      },
      "execution_count": null,
      "outputs": []
    },
    {
      "cell_type": "code",
      "source": [
        "from google.colab import drive\n",
        "drive.mount('/content/drive')"
      ],
      "metadata": {
        "colab": {
          "base_uri": "https://localhost:8080/"
        },
        "id": "OYE9pt-_Q3mD",
        "outputId": "11d1bdcc-4c33-462c-e40b-c3790bef57ab"
      },
      "execution_count": null,
      "outputs": [
        {
          "output_type": "stream",
          "name": "stdout",
          "text": [
            "Mounted at /content/drive\n"
          ]
        }
      ]
    },
    {
      "cell_type": "code",
      "execution_count": null,
      "metadata": {
        "id": "2bElIWNZQpOv"
      },
      "outputs": [],
      "source": [
        "import os\n",
        "import numpy as np\n",
        "import torch\n",
        "import torch.nn as nn\n",
        "import torch.optim as optim\n",
        "from torchvision import datasets, transforms\n",
        "from torch.utils.data import DataLoader, random_split\n",
        "from sklearn.metrics import (\n",
        "    accuracy_score, precision_score, recall_score, f1_score, confusion_matrix\n",
        ")\n",
        "import matplotlib.pyplot as plt"
      ]
    },
    {
      "cell_type": "markdown",
      "source": [
        "# **Load & Preprocess Images**"
      ],
      "metadata": {
        "id": "yQKuZxoiZ2-O"
      }
    },
    {
      "cell_type": "code",
      "source": [
        "DATA_DIR = \"/content/drive/MyDrive/project_445/Dataset\"\n",
        "IMG_SIZE = 224\n",
        "BATCH_SIZE = 32\n",
        "NUM_CLASSES = 2\n",
        "DEVICE = torch.device(\"cuda\" if torch.cuda.is_available() else \"cpu\")\n",
        "\n",
        "transform = transforms.Compose([\n",
        "    transforms.Grayscale(num_output_channels=1),\n",
        "    transforms.Resize((IMG_SIZE, IMG_SIZE)),\n",
        "    transforms.ToTensor(),                # [0,1]\n",
        "    transforms.Normalize((0.5,), (0.5,))  # [-1,1]\n",
        "])\n",
        "\n",
        "full_dataset = datasets.ImageFolder(DATA_DIR, transform=transform)"
      ],
      "metadata": {
        "id": "CySfSF-zQ8aI"
      },
      "execution_count": null,
      "outputs": []
    },
    {
      "cell_type": "code",
      "source": [
        "total = len(full_dataset)\n",
        "train_len = int(0.7 * total)\n",
        "val_len   = int(0.1 * total)\n",
        "test_len  = total - train_len - val_len\n",
        "train_ds, val_ds, test_ds = random_split(full_dataset, [train_len, val_len, test_len],\n",
        "                                         generator=torch.Generator().manual_seed(42))\n",
        "\n",
        "train_loader = DataLoader(train_ds, batch_size=BATCH_SIZE, shuffle=True,  num_workers=2)\n",
        "val_loader   = DataLoader(val_ds,   batch_size=BATCH_SIZE, shuffle=False, num_workers=2)\n",
        "test_loader  = DataLoader(test_ds,  batch_size=BATCH_SIZE, shuffle=False, num_workers=2)"
      ],
      "metadata": {
        "id": "Py7MABn2Q9Pw"
      },
      "execution_count": null,
      "outputs": []
    },
    {
      "cell_type": "markdown",
      "source": [
        "# **Model create**"
      ],
      "metadata": {
        "id": "VCBPtywNrLh7"
      }
    },
    {
      "cell_type": "code",
      "source": [
        "class MLP(nn.Module):\n",
        "    def __init__(self, input_dim, h1, h2, num_classes, p=0.2):\n",
        "        super().__init__()\n",
        "        self.net = nn.Sequential(\n",
        "            nn.Flatten(),\n",
        "            nn.Linear(input_dim, h1),\n",
        "            nn.ReLU(),\n",
        "            nn.Dropout(p),\n",
        "            nn.Linear(h1, h2),\n",
        "            nn.ReLU(),\n",
        "            nn.Dropout(p),\n",
        "            nn.Linear(h2, 1)\n",
        "        )\n",
        "    def forward(self, x):\n",
        "        return self.net(x)\n",
        "\n",
        "model = MLP(IMG_SIZE*IMG_SIZE, 512, 256, NUM_CLASSES).to(DEVICE)"
      ],
      "metadata": {
        "id": "7-SyZ2_cRA4s"
      },
      "execution_count": null,
      "outputs": []
    },
    {
      "cell_type": "code",
      "source": [
        "criterion = nn.BCEWithLogitsLoss()\n",
        "optimizer = optim.Adam(model.parameters(), lr=1e-3, weight_decay=1e-4)\n",
        "scheduler = optim.lr_scheduler.ReduceLROnPlateau(optimizer, 'min', patience=3)\n"
      ],
      "metadata": {
        "id": "oQyE38YcRFfp"
      },
      "execution_count": null,
      "outputs": []
    },
    {
      "cell_type": "code",
      "source": [
        "best_val_acc = 0.0\n",
        "history = {'train_loss':[], 'val_loss':[], 'val_acc':[]}\n",
        "\n",
        "for epoch in range(1, 21):\n",
        "    model.train()\n",
        "    running_loss = 0.0\n",
        "    for X_batch, y_batch in train_loader:\n",
        "        X_batch, y_batch = X_batch.to(DEVICE), y_batch.to(DEVICE)\n",
        "        y_batch = y_batch.float().unsqueeze(1)  # Convert to float and shape [batch_size, 1]\n",
        "        optimizer.zero_grad()\n",
        "        logits = model(X_batch)  # Raw logits (no sigmoid yet)\n",
        "        loss = criterion(logits, y_batch)\n",
        "        loss.backward()\n",
        "        optimizer.step()\n",
        "        running_loss += loss.item() * X_batch.size(0)\n",
        "    train_loss = running_loss / len(train_loader.dataset)\n",
        "\n",
        "    # Validation\n",
        "    model.eval()\n",
        "    val_loss = 0.0\n",
        "    preds, truths = [], []\n",
        "    with torch.no_grad():\n",
        "        for X_batch, y_batch in val_loader:\n",
        "            X_batch, y_batch = X_batch.to(DEVICE), y_batch.to(DEVICE)\n",
        "            y_batch = y_batch.float().unsqueeze(1)\n",
        "            logits = model(X_batch)\n",
        "            loss = criterion(logits, y_batch)\n",
        "            val_loss += loss.item() * X_batch.size(0)\n",
        "            preds.append((torch.sigmoid(logits) > 0.5).float().cpu().numpy())\n",
        "            truths.append(y_batch.cpu().numpy())\n",
        "    val_loss /= len(val_loader.dataset)\n",
        "    preds = np.concatenate(preds).flatten()\n",
        "    truths = np.concatenate(truths).flatten()\n",
        "    val_acc = accuracy_score(truths, preds)\n",
        "\n",
        "    scheduler.step(val_loss)\n",
        "    history['train_loss'].append(train_loss)\n",
        "    history['val_loss'].append(val_loss)\n",
        "    history['val_acc'].append(val_acc)\n",
        "\n",
        "    print(f\"Epoch {epoch:02d} | Train Loss: {train_loss:.4f} | Val Loss: {val_loss:.4f} | Val Acc: {val_acc:.4f}\")\n",
        "\n",
        "    # Save best\n",
        "    if val_acc > best_val_acc:\n",
        "        best_val_acc = val_acc\n",
        "        torch.save(model.state_dict(), \"best_mlp.pth\")"
      ],
      "metadata": {
        "colab": {
          "base_uri": "https://localhost:8080/"
        },
        "id": "g478haE-RIcL",
        "outputId": "e1abd126-08f8-4d9c-da21-dc9a1f29265d"
      },
      "execution_count": null,
      "outputs": [
        {
          "output_type": "stream",
          "name": "stdout",
          "text": [
            "Epoch 01 | Train Loss: 1.3334 | Val Loss: 2.6947 | Val Acc: 0.5000\n",
            "Epoch 02 | Train Loss: 1.2004 | Val Loss: 1.1659 | Val Acc: 0.6000\n",
            "Epoch 03 | Train Loss: 0.5864 | Val Loss: 1.8251 | Val Acc: 0.7000\n",
            "Epoch 04 | Train Loss: 0.7672 | Val Loss: 1.8636 | Val Acc: 0.5000\n",
            "Epoch 05 | Train Loss: 0.6327 | Val Loss: 0.8548 | Val Acc: 0.7000\n",
            "Epoch 06 | Train Loss: 0.2927 | Val Loss: 1.2329 | Val Acc: 0.7000\n",
            "Epoch 07 | Train Loss: 0.3445 | Val Loss: 0.9252 | Val Acc: 0.7000\n",
            "Epoch 08 | Train Loss: 0.5202 | Val Loss: 1.3030 | Val Acc: 0.6000\n",
            "Epoch 09 | Train Loss: 0.3150 | Val Loss: 2.1059 | Val Acc: 0.7000\n",
            "Epoch 10 | Train Loss: 0.6027 | Val Loss: 2.0883 | Val Acc: 0.7000\n",
            "Epoch 11 | Train Loss: 0.3765 | Val Loss: 1.9876 | Val Acc: 0.7000\n",
            "Epoch 12 | Train Loss: 0.4291 | Val Loss: 1.7780 | Val Acc: 0.7000\n",
            "Epoch 13 | Train Loss: 0.2856 | Val Loss: 1.5422 | Val Acc: 0.7000\n",
            "Epoch 14 | Train Loss: 0.1076 | Val Loss: 1.5282 | Val Acc: 0.7000\n",
            "Epoch 15 | Train Loss: 0.2907 | Val Loss: 1.5092 | Val Acc: 0.7000\n",
            "Epoch 16 | Train Loss: 0.3510 | Val Loss: 1.4844 | Val Acc: 0.7000\n",
            "Epoch 17 | Train Loss: 0.5170 | Val Loss: 1.4449 | Val Acc: 0.7000\n",
            "Epoch 18 | Train Loss: 0.0685 | Val Loss: 1.4417 | Val Acc: 0.7000\n",
            "Epoch 19 | Train Loss: 0.1930 | Val Loss: 1.4387 | Val Acc: 0.7000\n",
            "Epoch 20 | Train Loss: 0.1593 | Val Loss: 1.4356 | Val Acc: 0.7000\n"
          ]
        }
      ]
    },
    {
      "cell_type": "markdown",
      "source": [
        "# **Model Evaluate on Test Data**"
      ],
      "metadata": {
        "id": "Y1vNNqvtWr4i"
      }
    },
    {
      "cell_type": "code",
      "source": [
        "model.load_state_dict(torch.load(\"best_mlp.pth\"))\n",
        "model.eval()\n",
        "\n",
        "all_preds, all_truths = [], []\n",
        "with torch.no_grad():\n",
        "    for X_batch, y_batch in test_loader:\n",
        "        X_batch = X_batch.to(DEVICE)\n",
        "        logits = model(X_batch)\n",
        "        preds = (torch.sigmoid(logits) > 0.5).float().cpu().numpy()\n",
        "        all_preds.append(preds)\n",
        "        all_truths.append(y_batch.numpy())\n",
        "\n",
        "y_pred = np.concatenate(all_preds).flatten()\n",
        "y_true = np.concatenate(all_truths).flatten()\n",
        "\n",
        "print(\"Test Accuracy :\", accuracy_score(y_true, y_pred))\n",
        "print(\"Precision     :\", precision_score(y_true, y_pred))\n",
        "print(\"Recall        :\", recall_score(y_true, y_pred))\n",
        "print(\"F1 Score      :\", f1_score(y_true, y_pred))\n",
        "\n",
        "# Confusion Matrix (unchanged)\n",
        "cm = confusion_matrix(y_true, y_pred)\n",
        "plt.figure(figsize=(5,5))\n",
        "plt.imshow(cm, interpolation='nearest', cmap='Blues')\n",
        "plt.title(\"Confusion Matrix\")\n",
        "plt.colorbar()\n",
        "ticks = np.arange(NUM_CLASSES)\n",
        "plt.xticks(ticks, full_dataset.classes, rotation=45)\n",
        "plt.yticks(ticks, full_dataset.classes)\n",
        "for i in range(NUM_CLASSES):\n",
        "    for j in range(NUM_CLASSES):\n",
        "        plt.text(j, i, cm[i,j], ha='center', va='center',\n",
        "                 color='white' if cm[i,j]>cm.max()/2 else 'black')\n",
        "plt.ylabel('True'); plt.xlabel('Predicted'); plt.tight_layout(); plt.show()"
      ],
      "metadata": {
        "colab": {
          "base_uri": "https://localhost:8080/",
          "height": 553
        },
        "id": "Gg6UIL0URJWb",
        "outputId": "412cf08c-4a29-4a9b-a03c-a1f394ce8324"
      },
      "execution_count": null,
      "outputs": [
        {
          "output_type": "stream",
          "name": "stdout",
          "text": [
            "Test Accuracy : 0.75\n",
            "Precision     : 0.75\n",
            "Recall        : 0.6666666666666666\n",
            "F1 Score      : 0.7058823529411765\n"
          ]
        },
        {
          "output_type": "display_data",
          "data": {
            "text/plain": [
              "<Figure size 500x500 with 2 Axes>"
            ],
            "image/png": "[encoded data removed]"
          },
          "metadata": {}
        }
      ]
    }
  ]
}